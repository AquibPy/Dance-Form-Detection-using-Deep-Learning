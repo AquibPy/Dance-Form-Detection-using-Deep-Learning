{
 "cells": [
  {
   "cell_type": "code",
   "execution_count": 1,
   "metadata": {},
   "outputs": [],
   "source": [
    "import numpy as np\n",
    "import pandas as pd\n",
    "import os\n",
    "import matplotlib.pyplot as plt\n",
    "%matplotlib inline\n",
    "import tensorflow\n",
    "import seaborn as sns\n",
    "import cv2\n",
    "from tqdm import tqdm"
   ]
  },
  {
   "cell_type": "code",
   "execution_count": 2,
   "metadata": {},
   "outputs": [],
   "source": [
    "train = pd.read_csv('dataset/train.csv')\n",
    "test = pd.read_csv('dataset/test.csv')"
   ]
  },
  {
   "cell_type": "code",
   "execution_count": 3,
   "metadata": {},
   "outputs": [
    {
     "output_type": "execute_result",
     "data": {
      "text/plain": "     Image         target\n0   96.jpg       manipuri\n1  163.jpg  bharatanatyam\n2  450.jpg         odissi\n3  219.jpg      kathakali\n4  455.jpg         odissi",
      "text/html": "<div>\n<style scoped>\n    .dataframe tbody tr th:only-of-type {\n        vertical-align: middle;\n    }\n\n    .dataframe tbody tr th {\n        vertical-align: top;\n    }\n\n    .dataframe thead th {\n        text-align: right;\n    }\n</style>\n<table border=\"1\" class=\"dataframe\">\n  <thead>\n    <tr style=\"text-align: right;\">\n      <th></th>\n      <th>Image</th>\n      <th>target</th>\n    </tr>\n  </thead>\n  <tbody>\n    <tr>\n      <th>0</th>\n      <td>96.jpg</td>\n      <td>manipuri</td>\n    </tr>\n    <tr>\n      <th>1</th>\n      <td>163.jpg</td>\n      <td>bharatanatyam</td>\n    </tr>\n    <tr>\n      <th>2</th>\n      <td>450.jpg</td>\n      <td>odissi</td>\n    </tr>\n    <tr>\n      <th>3</th>\n      <td>219.jpg</td>\n      <td>kathakali</td>\n    </tr>\n    <tr>\n      <th>4</th>\n      <td>455.jpg</td>\n      <td>odissi</td>\n    </tr>\n  </tbody>\n</table>\n</div>"
     },
     "metadata": {},
     "execution_count": 3
    }
   ],
   "source": [
    "train.head()"
   ]
  },
  {
   "cell_type": "code",
   "execution_count": 4,
   "metadata": {},
   "outputs": [
    {
     "output_type": "execute_result",
     "data": {
      "text/plain": "array(['manipuri', 'bharatanatyam', 'odissi', 'kathakali', 'kathak',\n       'sattriya', 'kuchipudi', 'mohiniyattam'], dtype=object)"
     },
     "metadata": {},
     "execution_count": 4
    }
   ],
   "source": [
    "train['target'].unique()"
   ]
  },
  {
   "cell_type": "code",
   "execution_count": 5,
   "metadata": {},
   "outputs": [],
   "source": [
    "from tensorflow.keras.preprocessing.image import ImageDataGenerator"
   ]
  },
  {
   "cell_type": "code",
   "execution_count": 10,
   "metadata": {
    "tags": []
   },
   "outputs": [
    {
     "output_type": "stream",
     "name": "stdout",
     "text": "Found 364 validated image filenames belonging to 8 classes.\n"
    }
   ],
   "source": [
    "datagen = ImageDataGenerator(rescale=1./255)\n",
    "train_generator=datagen.flow_from_dataframe(\n",
    "    dataframe=train,\n",
    "    directory=\".\\\\dataset\\\\train\",\n",
    "    x_col = \"Image\",\n",
    "    y_col = \"target\",\n",
    "    class_mode = \"categorical\",\n",
    "    target_size=(128,128),\n",
    "    batch_size=32\n",
    ")\n",
    "\n",
    "# test_generator = datagen.flow_from_dataframe(\n",
    "#     dataframe=test,\n",
    "#     directory=\".\\\\dataset\\\\test\",\n",
    "#     x_col = \"Image\",\n",
    "#     target_size=(128,128),\n",
    "#     class_mode=None,\n",
    "#     batch_size=32\n",
    "# )"
   ]
  },
  {
   "cell_type": "code",
   "execution_count": 11,
   "metadata": {},
   "outputs": [],
   "source": [
    "from tensorflow.keras.models import Sequential\n",
    "from tensorflow.keras.layers import Dense,Conv2D,MaxPool2D,Flatten,Dropout\n",
    "\n",
    "\n",
    "model = Sequential()\n",
    "model.add(Conv2D(filters=100,kernel_size=(3,3),input_shape=(128,128,3),activation='relu'))\n",
    "model.add(MaxPool2D(pool_size=(3,3)))\n",
    "\n",
    "model.add(Conv2D(filters=200,kernel_size=(3,3),activation='relu'))\n",
    "model.add(MaxPool2D(pool_size=(3,3)))\n",
    "\n",
    "model.add(Conv2D(filters=300,kernel_size=(3,3),activation='relu'))\n",
    "model.add(MaxPool2D(pool_size=(3,3)))\n",
    "\n",
    "model.add(Flatten())\n",
    "model.add(Dropout(0.5))\n",
    "\n",
    "model.add(Dense(64,activation='relu'))\n",
    "model.add(Dense(8,activation='softmax'))\n",
    "\n",
    "model.compile(loss='categorical_crossentropy',optimizer='adam',metrics=['accuracy'])"
   ]
  },
  {
   "cell_type": "code",
   "execution_count": 12,
   "metadata": {
    "tags": []
   },
   "outputs": [
    {
     "output_type": "stream",
     "name": "stdout",
     "text": "WARNING:tensorflow:sample_weight modes were coerced from\n  ...\n    to  \n  ['...']\nTrain for 12 steps\nEpoch 1/20\n12/12 [==============================] - 14s 1s/step - loss: 2.1151 - accuracy: 0.1181\nEpoch 2/20\n12/12 [==============================] - 11s 922ms/step - loss: 2.0730 - accuracy: 0.1346\nEpoch 3/20\n12/12 [==============================] - 11s 947ms/step - loss: 2.0584 - accuracy: 0.1676\nEpoch 4/20\n12/12 [==============================] - 12s 1s/step - loss: 2.0104 - accuracy: 0.2033\nEpoch 5/20\n12/12 [==============================] - 12s 963ms/step - loss: 1.8885 - accuracy: 0.2747\nEpoch 6/20\n12/12 [==============================] - 12s 994ms/step - loss: 1.6778 - accuracy: 0.3709\nEpoch 7/20\n12/12 [==============================] - 13s 1s/step - loss: 1.6159 - accuracy: 0.3846\nEpoch 8/20\n12/12 [==============================] - 15s 1s/step - loss: 1.5607 - accuracy: 0.4313\nEpoch 9/20\n12/12 [==============================] - 14s 1s/step - loss: 1.3570 - accuracy: 0.5220\nEpoch 10/20\n12/12 [==============================] - 12s 1s/step - loss: 1.1983 - accuracy: 0.5577\nEpoch 11/20\n12/12 [==============================] - 12s 1s/step - loss: 1.1070 - accuracy: 0.6401\nEpoch 12/20\n12/12 [==============================] - 13s 1s/step - loss: 0.9026 - accuracy: 0.6538\nEpoch 13/20\n12/12 [==============================] - 12s 996ms/step - loss: 0.8009 - accuracy: 0.7280\nEpoch 14/20\n12/12 [==============================] - 14s 1s/step - loss: 0.7014 - accuracy: 0.7582\nEpoch 15/20\n12/12 [==============================] - 11s 958ms/step - loss: 0.5166 - accuracy: 0.8269\nEpoch 16/20\n12/12 [==============================] - 11s 934ms/step - loss: 0.4580 - accuracy: 0.8434\nEpoch 17/20\n12/12 [==============================] - 12s 963ms/step - loss: 0.3776 - accuracy: 0.8764\nEpoch 18/20\n12/12 [==============================] - 12s 995ms/step - loss: 0.3311 - accuracy: 0.8654\nEpoch 19/20\n12/12 [==============================] - 14s 1s/step - loss: 0.2180 - accuracy: 0.9286\nEpoch 20/20\n12/12 [==============================] - 14s 1s/step - loss: 0.2169 - accuracy: 0.9258\n"
    },
    {
     "output_type": "execute_result",
     "data": {
      "text/plain": "<tensorflow.python.keras.callbacks.History at 0x226013f1ac8>"
     },
     "metadata": {},
     "execution_count": 12
    }
   ],
   "source": [
    "model.fit(\n",
    "    train_generator,\n",
    "    epochs=20,\n",
    "    # validation_data=test_generator\n",
    ")"
   ]
  },
  {
   "cell_type": "code",
   "execution_count": 13,
   "metadata": {},
   "outputs": [],
   "source": [
    "model.save('new_model.h5')"
   ]
  },
  {
   "cell_type": "code",
   "execution_count": 14,
   "metadata": {
    "tags": []
   },
   "outputs": [
    {
     "output_type": "stream",
     "name": "stderr",
     "text": "100%|██████████| 156/156 [00:01<00:00, 142.48it/s]\n"
    }
   ],
   "source": [
    "test_img = []\n",
    "path = 'dataset/test/'\n",
    "for i in tqdm(test['Image']):\n",
    "    final_path = os.path.join(path,i)\n",
    "    img = cv2.imread(final_path)\n",
    "    img = cv2.resize(img,(128,128))\n",
    "    test_img.append(img)"
   ]
  },
  {
   "cell_type": "code",
   "execution_count": 21,
   "metadata": {},
   "outputs": [],
   "source": [
    "test_data = np.array(test_img)\n",
    "test_data = np.reshape(test_data,(test_data.shape[0],128,128,3))\n",
    "prediction  = model.predict_classes(test_data)"
   ]
  },
  {
   "cell_type": "code",
   "execution_count": 22,
   "metadata": {},
   "outputs": [
    {
     "output_type": "execute_result",
     "data": {
      "text/plain": "array([1, 6, 0, 6, 0, 6, 0, 2, 6, 6, 6, 0, 1, 6, 6, 0, 6, 7, 4, 0, 6, 6,\n       6, 6, 4, 0, 0, 6, 7, 0, 6, 6, 0, 6, 6, 0, 4, 6, 0, 6, 1, 0, 6, 0,\n       1, 0, 6, 5, 6, 0, 6, 1, 1, 6, 6, 6, 4, 6, 6, 1, 0, 1, 1, 6, 0, 6,\n       6, 0, 6, 0, 6, 5, 0, 7, 6, 6, 0, 6, 1, 1, 6, 5, 7, 6, 6, 0, 5, 6,\n       4, 6, 6, 1, 6, 6, 6, 1, 6, 0, 6, 1, 6, 6, 6, 6, 6, 0, 6, 6, 1, 6,\n       1, 6, 6, 6, 1, 6, 6, 6, 5, 6, 6, 6, 6, 1, 6, 6, 5, 0, 6, 1, 0, 4,\n       0, 0, 0, 6, 6, 4, 1, 6, 6, 6, 6, 1, 6, 7, 6, 1, 4, 0, 6, 4, 6, 6,\n       6, 6], dtype=int64)"
     },
     "metadata": {},
     "execution_count": 22
    }
   ],
   "source": [
    "prediction"
   ]
  },
  {
   "cell_type": "code",
   "execution_count": 23,
   "metadata": {},
   "outputs": [],
   "source": [
    "Class_map={'manipuri':0, 'bharatanatyam':1, 'odissi':2 ,'kathakali':3, 'kathak':4, 'sattriya':5,\n",
    " 'kuchipudi':6, 'mohiniyattam':7}\n",
    "inverse_map={0:'manipuri', 1:'bharatanatyam', 2:'odissi' ,3:'kathakali',4: 'kathak', 5:'sattriya',\n",
    " 6:'kuchipudi', 7:'mohiniyattam'}\n",
    "train['target']=train['target'].map(Class_map)"
   ]
  },
  {
   "cell_type": "code",
   "execution_count": 25,
   "metadata": {},
   "outputs": [],
   "source": [
    "submission = pd.DataFrame({'Image': test.Image})\n",
    "submission.to_csv('new_output.csv',index=False)\n",
    "submission['target'] = prediction\n",
    "submission['target'] = submission['target'].map(inverse_map)"
   ]
  },
  {
   "cell_type": "code",
   "execution_count": 26,
   "metadata": {},
   "outputs": [],
   "source": [
    "submission.to_csv('new_output.csv',index=False)"
   ]
  },
  {
   "cell_type": "code",
   "execution_count": null,
   "metadata": {},
   "outputs": [],
   "source": []
  }
 ],
 "metadata": {
  "language_info": {
   "codemirror_mode": {
    "name": "ipython",
    "version": 3
   },
   "file_extension": ".py",
   "mimetype": "text/x-python",
   "name": "python",
   "nbconvert_exporter": "python",
   "pygments_lexer": "ipython3",
   "version": 3
  },
  "orig_nbformat": 2,
  "kernelspec": {
   "name": "python_defaultSpec_1594389750264",
   "display_name": "Python 3.7.7 64-bit ('tensorflow_env': conda)"
  }
 },
 "nbformat": 4,
 "nbformat_minor": 2
}